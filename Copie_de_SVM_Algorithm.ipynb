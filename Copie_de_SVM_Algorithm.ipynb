{
  "cells": [
    {
      "cell_type": "markdown",
      "metadata": {
        "id": "YTq4j6R3_RMr"
      },
      "source": [
        "## Coding Exercise #0311"
      ]
    },
    {
      "cell_type": "markdown",
      "source": [
        "<img src=\"https://miro.medium.com/max/1000/0*08KrYhXpVQdUXWrX\" width=\"400\" height=\"240\">\n",
        "<img src=\"https://miro.medium.com/max/1380/1*AFqQio7ZB91FZvFtuYAn-w.png\" width=\"400\" height=\"240\">\n",
        "<img src=\"https://miro.medium.com/max/1713/1*6HVomcqW7BWuZ2vvGOEptw.png\" width=\"400\" height=\"240\">\n",
        "\n",
        "\n",
        "You can learn more [here](https://towardsdatascience.com/svm-and-kernel-svm-fed02bef1200)\n",
        "or [here](https://www.analytixlabs.co.in/blog/introduction-support-vector-machine-algorithm/) \n",
        "and maybe [here too](https://www.kdnuggets.com/2022/08/support-vector-machines-intuitive-approach.html)"
      ],
      "metadata": {
        "id": "teZ2gcLXAE-1"
      }
    },
    {
      "cell_type": "markdown",
      "metadata": {
        "id": "9OnG1OfC_RM6"
      },
      "source": [
        "### 1. Classification with SVM:"
      ]
    },
    {
      "cell_type": "code",
      "execution_count": 1,
      "metadata": {
        "id": "mxrfOq8J_RM9"
      },
      "outputs": [],
      "source": [
        "import numpy as np\n",
        "import pandas as pd\n",
        "import matplotlib.pyplot as plt\n",
        "import seaborn as sns\n",
        "import warnings\n",
        "from sklearn.model_selection import train_test_split,GridSearchCV\n",
        "from sklearn.svm import SVC\n",
        "from sklearn import metrics\n",
        "from sklearn.datasets import load_iris\n",
        "warnings.filterwarnings(action='ignore')                  # Turn off the warnings.\n",
        "%matplotlib inline"
      ]
    },
    {
      "cell_type": "markdown",
      "metadata": {
        "id": "F4LydTU9_RNA"
      },
      "source": [
        "#### 1.1. Read in data:"
      ]
    },
    {
      "cell_type": "code",
      "execution_count": 2,
      "metadata": {
        "id": "W_Q44H--_RNB"
      },
      "outputs": [],
      "source": [
        "# Load data.\n",
        "data = load_iris()"
      ]
    },
    {
      "cell_type": "code",
      "execution_count": 4,
      "metadata": {
        "id": "8xJBJAcj_RND",
        "colab": {
          "base_uri": "https://localhost:8080/"
        },
        "outputId": "4b7ff38b-96c8-44a5-f344-bfdc1c8ac98c"
      },
      "outputs": [
        {
          "output_type": "stream",
          "name": "stdout",
          "text": [
            "['sepal length (cm)', 'sepal width (cm)', 'petal length (cm)', 'petal width (cm)']\n"
          ]
        }
      ],
      "source": [
        "# Explanatory variables.\n",
        "X = data.data\n",
        "columns = data.feature_names\n",
        "print(columns)"
      ]
    },
    {
      "cell_type": "code",
      "execution_count": 6,
      "metadata": {
        "id": "k28n1_br_RNH",
        "colab": {
          "base_uri": "https://localhost:8080/"
        },
        "outputId": "09a122db-3b04-4f1b-edb4-55fe8e0193c0"
      },
      "outputs": [
        {
          "output_type": "stream",
          "name": "stdout",
          "text": [
            "['setosa' 'versicolor' 'virginica']\n"
          ]
        }
      ],
      "source": [
        "# Response variable.\n",
        "Y = data.target\n",
        "labels = data.target_names\n",
        "print(labels)"
      ]
    },
    {
      "cell_type": "code",
      "execution_count": 7,
      "metadata": {
        "id": "I3E0muR6_RNJ"
      },
      "outputs": [],
      "source": [
        "X_train, X_test, Y_train, Y_test = train_test_split(X, Y, test_size=0.3, random_state=1234)"
      ]
    },
    {
      "cell_type": "markdown",
      "metadata": {
        "id": "TgzCjHpk_RNL"
      },
      "source": [
        "#### 1.2. SVM hyperparameter optimization (RBF kernel):"
      ]
    },
    {
      "cell_type": "markdown",
      "metadata": {
        "id": "tKotpXmE_RNN"
      },
      "source": [
        "C     : Penalty parameter. <br>\n",
        "gamma : kernel parameter ($\\gamma$)."
      ]
    },
    {
      "cell_type": "code",
      "execution_count": 9,
      "metadata": {
        "id": "RHUvxfPK_RNO"
      },
      "outputs": [],
      "source": [
        "#Grid sreach with RBF Kernel\n",
        "C_grid = 0.02*np.arange(1,20)\n",
        "gamma_grid = 0.02*np.arange(1,50)\n",
        "parameters = {'C':C_grid,'gamma':gamma_grid}\n",
        "gridCV = GridSearchCV(SVC(), param_grid=parameters)            # \"n_jobs = -1\" means \"use all the CPU cores\".\n",
        "\n",
        "#Train\n",
        "model= gridCV.fit(X_train, Y_train)\n",
        "#Get the best parameters\n",
        "best_C = gridCV.best_params_['C']\n",
        "best_gamma = gridCV.best_params_['gamma']"
      ]
    },
    {
      "cell_type": "code",
      "execution_count": 10,
      "metadata": {
        "id": "UcWo0sIS_RNP",
        "colab": {
          "base_uri": "https://localhost:8080/"
        },
        "outputId": "b7751260-f82b-40db-ae4d-d926426bfe6d"
      },
      "outputs": [
        {
          "output_type": "stream",
          "name": "stdout",
          "text": [
            "SVM best C : 0.12\n",
            "SVM best gamma : 0.86\n"
          ]
        }
      ],
      "source": [
        "print(\"SVM best C : \" + str(best_C))\n",
        "print(\"SVM best gamma : \" + str(best_gamma))"
      ]
    },
    {
      "cell_type": "code",
      "execution_count": 12,
      "metadata": {
        "id": "6AoK8HPc_RNR",
        "colab": {
          "base_uri": "https://localhost:8080/"
        },
        "outputId": "c6520484-94db-41fd-dfd2-778af159bced"
      },
      "outputs": [
        {
          "output_type": "stream",
          "name": "stdout",
          "text": [
            "SVM best accuracy : 0.9777777777777777\n"
          ]
        }
      ],
      "source": [
        "#Now that we got the best parameters, lets try them !\n",
        "SVM_rbf = SVC(C=0.12, gamma=0.86)\n",
        "\n",
        "#Train\n",
        "model=SVM_rbf.fit(X_train, Y_train)\n",
        "\n",
        "#Predict\n",
        "Y_pred = model.predict(X_test)\n",
        "\n",
        "#Accuracy\n",
        "print( f\"SVM best accuracy : {metrics.accuracy_score(Y_test, Y_pred)}\" )"
      ]
    },
    {
      "cell_type": "markdown",
      "metadata": {
        "id": "AxTTvdMp_RNS"
      },
      "source": [
        "#### 1.3. SVM hyperparameter optimization (Polynomial kernel): kernel):"
      ]
    },
    {
      "cell_type": "code",
      "execution_count": 14,
      "metadata": {
        "id": "HBcWi_th_RNS"
      },
      "outputs": [],
      "source": [
        "#Grid Search with Polynomial\n",
        "C_grid = 0.0001*np.arange(1,30)\n",
        "gamma_grid = 0.01*np.arange(1,30)\n",
        "parameters ={'C':C_grid,'gamma':gamma_grid}\n",
        "gridCV =  GridSearchCV(SVC(kernel='poly'), param_grid=parameters)           # \"n_jobs = -1\" means \"use all the CPU cores\".\n",
        "\n",
        "#Train\n",
        "model=gridCV.fit(X_train,Y_train)\n",
        "#Get the best parameters\n",
        "best_C = gridCV.best_params_['C']\n",
        "best_gamma = gridCV.best_params_['gamma']"
      ]
    },
    {
      "cell_type": "code",
      "execution_count": 15,
      "metadata": {
        "id": "SqUzcyMi_RNT",
        "colab": {
          "base_uri": "https://localhost:8080/"
        },
        "outputId": "365d25fc-00a4-479a-8966-ac2ce95745e7"
      },
      "outputs": [
        {
          "output_type": "stream",
          "name": "stdout",
          "text": [
            "SVM best C : 0.0018000000000000002\n",
            "SVM best gamma : 0.29\n"
          ]
        }
      ],
      "source": [
        "print(\"SVM best C : \" + str(best_C))\n",
        "print(\"SVM best gamma : \" + str(best_gamma))"
      ]
    },
    {
      "cell_type": "code",
      "execution_count": 16,
      "metadata": {
        "id": "XQRA6pgr_RNV",
        "colab": {
          "base_uri": "https://localhost:8080/"
        },
        "outputId": "bae83b8c-ebc6-4fd4-fa43-bea0096479ca"
      },
      "outputs": [
        {
          "output_type": "stream",
          "name": "stdout",
          "text": [
            "SVM best accuracy : 1.0\n"
          ]
        }
      ],
      "source": [
        "#Now that we got the best parameters, lets try them !\n",
        "SVM_ply = SVC(kernel='poly', C=best_C, gamma=best_gamma)\n",
        "\n",
        "#Train\n",
        "model=SVM_ply.fit(X_train, Y_train)\n",
        "#Predict\n",
        "Y_pred = model.predict(X_test)\n",
        "\n",
        "#Accuracy\n",
        "print( f\"SVM best accuracy : {metrics.accuracy_score(Y_test, Y_pred)}\" )"
      ]
    },
    {
      "cell_type": "markdown",
      "metadata": {
        "id": "c28Jhz3k_RNW"
      },
      "source": [
        "#### 1.4. SVM hyperparameter optimization (Linear kernel): kernel):"
      ]
    },
    {
      "cell_type": "code",
      "execution_count": 18,
      "metadata": {
        "id": "jBRDoHir_RNX"
      },
      "outputs": [],
      "source": [
        "#Grid Search with linear\n",
        "C_grid = 0.0001*np.arange(1,30)\n",
        "gamma_grid = 0.01*np.arange(1,30)\n",
        "parameters ={'C':C_grid,'gamma':gamma_grid}\n",
        "gridCV =  GridSearchCV(SVC(kernel='linear'), param_grid=parameters)          # \"n_jobs = -1\" means \"use all the CPU cores\".\n",
        "\n",
        "#Train\n",
        "model=gridCV.fit(X_train,Y_train)\n",
        "#Get the best parameters\n",
        "best_C = gridCV.best_params_['C']\n",
        "best_gamma = gridCV.best_params_['gamma']"
      ]
    },
    {
      "cell_type": "code",
      "execution_count": 19,
      "metadata": {
        "id": "A3y-AMWp_RNX",
        "colab": {
          "base_uri": "https://localhost:8080/"
        },
        "outputId": "24ec710d-bc67-4587-81f1-6feec1e7a3db"
      },
      "outputs": [
        {
          "output_type": "stream",
          "name": "stdout",
          "text": [
            "SVM best C : 0.0016\n",
            "SVM best gamma : 0.01\n"
          ]
        }
      ],
      "source": [
        "print(\"SVM best C : \" + str(best_C))\n",
        "print(\"SVM best gamma : \" + str(best_gamma))"
      ]
    },
    {
      "cell_type": "code",
      "execution_count": 21,
      "metadata": {
        "id": "fnjKV4Fk_RNY",
        "colab": {
          "base_uri": "https://localhost:8080/"
        },
        "outputId": "d3579ed4-d421-4fe4-e8a8-e4c17d487e8b"
      },
      "outputs": [
        {
          "output_type": "stream",
          "name": "stdout",
          "text": [
            "SVM best accuracy : 0.6222222222222222\n"
          ]
        }
      ],
      "source": [
        "#Now that we got the best parameters, lets try them !\n",
        "SVM_lin=SVC(kernel='linear', C=best_C, gamma=best_gamma)\n",
        "\n",
        "#Train\n",
        "model=SVM_lin.fit(X_train, Y_train)\n",
        "#Predict\n",
        "Y_pred = model.predict(X_test)\n",
        "\n",
        "#Accuracy\n",
        "print( f\"SVM best accuracy : {metrics.accuracy_score(Y_test, Y_pred)}\" )"
      ]
    },
    {
      "cell_type": "markdown",
      "metadata": {
        "id": "_GIhb_70_RNZ"
      },
      "source": [
        "**Make a conclusion**"
      ]
    },
    {
      "cell_type": "markdown",
      "metadata": {
        "id": "cxBxTVhp_RNa"
      },
      "source": [
        "#### 1.5. Lets plot:"
      ]
    },
    {
      "cell_type": "code",
      "execution_count": 22,
      "metadata": {
        "id": "bY7aNhXb_RNb",
        "colab": {
          "base_uri": "https://localhost:8080/",
          "height": 285
        },
        "outputId": "2a94b845-6343-4337-be3a-54406b641374"
      },
      "outputs": [
        {
          "output_type": "execute_result",
          "data": {
            "text/plain": [
              "<matplotlib.collections.PathCollection at 0x7f58ea407290>"
            ]
          },
          "metadata": {},
          "execution_count": 22
        },
        {
          "output_type": "display_data",
          "data": {
            "text/plain": [
              "<Figure size 432x288 with 1 Axes>"
            ],
            "image/png": "[encoded data removed]"
          },
          "metadata": {
            "needs_background": "light"
          }
        }
      ],
      "source": [
        "# plot data\n",
        "plt.scatter(X[:50, 0], X[:50, 1],\n",
        "            color='blue', marker='o', label='Setosa')\n",
        "plt.scatter(X[50:100, 0], X[50:100, 1],\n",
        "            color='green', marker='v', label='Versicolor')\n"
      ]
    },
    {
      "cell_type": "code",
      "execution_count": null,
      "metadata": {
        "id": "ezKKwfXF_RNc"
      },
      "outputs": [],
      "source": [
        "#Bonus : Plot the different decision boundaries if you can"
      ]
    },
    {
      "cell_type": "code",
      "execution_count": null,
      "metadata": {
        "id": "IFPWuDl2_RNf"
      },
      "outputs": [],
      "source": []
    }
  ],
  "metadata": {
    "kernelspec": {
      "display_name": "Python 3.9.10 64-bit",
      "language": "python",
      "name": "python3"
    },
    "language_info": {
      "codemirror_mode": {
        "name": "ipython",
        "version": 3
      },
      "file_extension": ".py",
      "mimetype": "text/x-python",
      "name": "python",
      "nbconvert_exporter": "python",
      "pygments_lexer": "ipython3",
      "version": "3.9.10"
    },
    "vscode": {
      "interpreter": {
        "hash": "5addf786bcd861d1ce5006f23111f8cbb206731e5b61b0a5632ba9e0252558a8"
      }
    },
    "colab": {
      "provenance": [],
      "collapsed_sections": []
    }
  },
  "nbformat": 4,
  "nbformat_minor": 0
}